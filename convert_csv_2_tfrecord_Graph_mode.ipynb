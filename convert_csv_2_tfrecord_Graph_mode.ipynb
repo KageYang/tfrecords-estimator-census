{
 "cells": [
  {
   "cell_type": "markdown",
   "metadata": {},
   "source": [
    "## Import libraries "
   ]
  },
  {
   "cell_type": "code",
   "execution_count": 1,
   "metadata": {},
   "outputs": [],
   "source": [
    "import tensorflow as tf\n",
    "import numpy as np"
   ]
  },
  {
   "cell_type": "code",
   "execution_count": 2,
   "metadata": {},
   "outputs": [],
   "source": [
    "def _bytes_feature(value):\n",
    "    return tf.train.Feature(bytes_list=tf.train.BytesList(value=[value]))\n",
    "\n",
    "def _int64_feature(value):\n",
    "    return tf.train.Feature(int64_list=tf.train.Int64List(value=[value]))"
   ]
  },
  {
   "cell_type": "markdown",
   "metadata": {},
   "source": [
    "## Function `convert_csv_2_tfrecord`: Build pipeline to read from csv file ,parse features, and write serialization of features to tfrecord file"
   ]
  },
  {
   "cell_type": "code",
   "execution_count": 3,
   "metadata": {},
   "outputs": [],
   "source": [
    "# Assume to run in Graph mode!\n",
    "def convert_csv_2_tfrecord(csv_file,out_file):\n",
    "    def _parse_line(line):\n",
    "        RECORD_DEFAULTS = [0,'A']*3+ ['A']*4+[0]*3+['A']*2\n",
    "        # Decode the line into its fields\n",
    "        return tf.decode_csv(line, RECORD_DEFAULTS)\n",
    "        \n",
    "    dataset = tf.data.TextLineDataset(csv_file).map(_parse_line)\n",
    "    iterator = dataset.make_one_shot_iterator()\n",
    "    features_tensor = iterator.get_next()\n",
    "    writer = tf.python_io.TFRecordWriter(out_file)\n",
    "    with tf.Session() as sess:\n",
    "        while True:\n",
    "            try:\n",
    "                features = sess.run(features_tensor) \n",
    "                example = tf.train.Example(\n",
    "                    features=tf.train.Features(feature=\n",
    "                        {'age': _int64_feature(features[0]),\n",
    "                        'workclass': _bytes_feature(features[1]),\n",
    "                        'fnlwgt': _int64_feature(features[2]),\n",
    "                        'education': _bytes_feature(features[3]),\n",
    "                        'education-num': _int64_feature(features[4]),\n",
    "                        'marital-status': _bytes_feature(features[5]),\n",
    "                        'occupation': _bytes_feature(features[6]),\n",
    "                        'relationship': _bytes_feature(features[7]),\n",
    "                        'race': _bytes_feature(features[8]),\n",
    "                        'sex': _bytes_feature(features[9]),\n",
    "                        'capital-gain': _int64_feature(features[10]),\n",
    "                        'capital-loss': _int64_feature(features[11]),\n",
    "                        'hours-per-week': _int64_feature(features[12]),\n",
    "                        'native-country': _bytes_feature(features[13]),\n",
    "                        'label': _bytes_feature(features[14])\n",
    "                    })\n",
    "                )\n",
    "                writer.write(example.SerializeToString())\n",
    "            except tf.errors.OutOfRangeError:\n",
    "                break\n",
    "        writer.close()"
   ]
  },
  {
   "cell_type": "markdown",
   "metadata": {},
   "source": [
    "## Convert CSV file to Tfrecord "
   ]
  },
  {
   "cell_type": "code",
   "execution_count": 4,
   "metadata": {},
   "outputs": [],
   "source": [
    "data = convert_csv_2_tfrecord('./adult.data','census.tfrecord')\n",
    "data"
   ]
  },
  {
   "cell_type": "code",
   "execution_count": 4,
   "metadata": {},
   "outputs": [],
   "source": [
    "data = convert_csv_2_tfrecord('./adult.test','census_test.tfrecord')\n",
    "data"
   ]
  },
  {
   "cell_type": "code",
   "execution_count": 5,
   "metadata": {},
   "outputs": [],
   "source": [
    "data"
   ]
  },
  {
   "cell_type": "code",
   "execution_count": null,
   "metadata": {},
   "outputs": [],
   "source": []
  }
 ],
 "metadata": {
  "kernelspec": {
   "display_name": "Python 3",
   "language": "python",
   "name": "python3"
  },
  "language_info": {
   "codemirror_mode": {
    "name": "ipython",
    "version": 3
   },
   "file_extension": ".py",
   "mimetype": "text/x-python",
   "name": "python",
   "nbconvert_exporter": "python",
   "pygments_lexer": "ipython3",
   "version": "3.5.2"
  }
 },
 "nbformat": 4,
 "nbformat_minor": 2
}
