{
 "cells": [
  {
   "cell_type": "markdown",
   "metadata": {},
   "source": [
    "## Import libraries "
   ]
  },
  {
   "cell_type": "code",
   "execution_count": 1,
   "metadata": {},
   "outputs": [],
   "source": [
    "import tensorflow as tf\n",
    "import numpy as np"
   ]
  },
  {
   "cell_type": "code",
   "execution_count": 2,
   "metadata": {},
   "outputs": [],
   "source": [
    "model_path = \"./1544253016\""
   ]
  },
  {
   "cell_type": "markdown",
   "metadata": {},
   "source": [
    "## Define feature columns"
   ]
  },
  {
   "cell_type": "code",
   "execution_count": 3,
   "metadata": {},
   "outputs": [],
   "source": [
    "_HASH_BUCKET_SIZE = 1000\n",
    "\n",
    "# Continuous variable columns\n",
    "age = tf.feature_column.numeric_column('age')\n",
    "education_num = tf.feature_column.numeric_column('education-num')\n",
    "capital_gain = tf.feature_column.numeric_column('capital-gain')\n",
    "capital_loss = tf.feature_column.numeric_column('capital-loss')\n",
    "hours_per_week = tf.feature_column.numeric_column('hours-per-week')\n",
    "gender = tf.feature_column.categorical_column_with_vocabulary_list(\n",
    "      'sex', ['Male', 'Female'])\n",
    "education = tf.feature_column.categorical_column_with_vocabulary_list(\n",
    "      'education', ['Bachelors', 'HS-grad', '11th', 'Masters', '9th', 'Some-college',\n",
    "          'Assoc-acdm', 'Assoc-voc', '7th-8th', 'Doctorate', 'Prof-school',\n",
    "          '5th-6th', '10th', '1st-4th', 'Preschool', '12th'])\n",
    "\n",
    "marital_status = tf.feature_column.categorical_column_with_vocabulary_list(\n",
    "      'marital-status', ['Married-civ-spouse', 'Divorced', 'Married-spouse-absent',\n",
    "          'Never-married', 'Separated', 'Married-AF-spouse', 'Widowed'])\n",
    "\n",
    "relationship = tf.feature_column.categorical_column_with_vocabulary_list(\n",
    "      'relationship', ['Husband', 'Not-in-family', 'Wife', 'Own-child', 'Unmarried',\n",
    "          'Other-relative'])\n",
    "\n",
    "workclass = tf.feature_column.categorical_column_with_vocabulary_list(\n",
    "      'workclass', ['Self-emp-not-inc', 'Private', 'State-gov', 'Federal-gov',\n",
    "          'Local-gov', '?', 'Self-emp-inc', 'Without-pay', 'Never-worked'])\n",
    "\n",
    "# To show an example of hashing:\n",
    "occupation = tf.feature_column.categorical_column_with_hash_bucket(\n",
    "      'occupation', hash_bucket_size=_HASH_BUCKET_SIZE)\n",
    "\n",
    "# Transformations.\n",
    "age_buckets = tf.feature_column.bucketized_column(age, boundaries=[18, 25, 30, 35, 40, 45, 50, 55, 60, 65])\n",
    "\n",
    "# Wide columns and deep columns.\n",
    "base_columns = [education, marital_status, relationship, workclass, occupation,age_buckets,gender,]\n",
    "\n",
    "crossed_columns = [\n",
    "      tf.feature_column.crossed_column(['education', 'occupation'], hash_bucket_size=_HASH_BUCKET_SIZE),\n",
    "      tf.feature_column.crossed_column([age_buckets, 'education', 'occupation'],hash_bucket_size=_HASH_BUCKET_SIZE),]\n",
    "\n",
    "wide_columns = base_columns + crossed_columns\n",
    "\n",
    "deep_columns = [\n",
    "      age,\n",
    "      education_num,\n",
    "      capital_gain,\n",
    "      capital_loss,\n",
    "      hours_per_week,\n",
    "      tf.feature_column.indicator_column(gender),\n",
    "      tf.feature_column.indicator_column(workclass),\n",
    "      tf.feature_column.indicator_column(education),\n",
    "      tf.feature_column.indicator_column(marital_status),\n",
    "      tf.feature_column.indicator_column(relationship),\n",
    "      # To show an example of embedding\n",
    "      tf.feature_column.embedding_column(occupation, dimension=8),\n",
    "  ]\n"
   ]
  },
  {
   "cell_type": "code",
   "execution_count": 4,
   "metadata": {},
   "outputs": [],
   "source": [
    "hidden_units = [100, 75, 50, 25]"
   ]
  },
  {
   "cell_type": "markdown",
   "metadata": {},
   "source": [
    "## Use DNN classifier"
   ]
  },
  {
   "cell_type": "code",
   "execution_count": null,
   "metadata": {},
   "outputs": [],
   "source": [
    "classifier = tf.estimator.DNNClassifier(\n",
    "        feature_columns=deep_columns,\n",
    "        hidden_units=hidden_units,\n",
    "        n_classes=2)"
   ]
  },
  {
   "cell_type": "markdown",
   "metadata": {},
   "source": [
    "## Use Deep & Wide model"
   ]
  },
  {
   "cell_type": "code",
   "execution_count": 5,
   "metadata": {},
   "outputs": [
    {
     "name": "stdout",
     "output_type": "stream",
     "text": [
      "INFO:tensorflow:Using default config.\n",
      "WARNING:tensorflow:Using temporary folder as model directory: /tmp/tmpyogfr2m0\n",
      "INFO:tensorflow:Using config: {'_keep_checkpoint_every_n_hours': 10000, '_log_step_count_steps': 100, '_experimental_distribute': None, '_master': '', '_device_fn': None, '_model_dir': '/tmp/tmpyogfr2m0', '_global_id_in_cluster': 0, '_tf_random_seed': None, '_num_worker_replicas': 1, '_cluster_spec': <tensorflow.python.training.server_lib.ClusterSpec object at 0x7f8370c74e48>, '_save_checkpoints_secs': 600, '_task_type': 'worker', '_keep_checkpoint_max': 5, '_eval_distribute': None, '_protocol': None, '_task_id': 0, '_is_chief': True, '_train_distribute': None, '_save_checkpoints_steps': None, '_evaluation_master': '', '_session_config': allow_soft_placement: true\n",
      "graph_options {\n",
      "  rewrite_options {\n",
      "    meta_optimizer_iterations: ONE\n",
      "  }\n",
      "}\n",
      ", '_save_summary_steps': 100, '_num_ps_replicas': 0, '_service': None}\n"
     ]
    }
   ],
   "source": [
    "classifier = tf.estimator.DNNLinearCombinedClassifier(\n",
    "        linear_feature_columns=wide_columns,\n",
    "        dnn_feature_columns=deep_columns,\n",
    "        dnn_hidden_units=hidden_units,)\n",
    "#        warm_start_from=model_path)"
   ]
  },
  {
   "cell_type": "markdown",
   "metadata": {},
   "source": [
    "## Setup training & evaluation pipeline"
   ]
  },
  {
   "cell_type": "code",
   "execution_count": 6,
   "metadata": {},
   "outputs": [],
   "source": [
    "NUM_EPOCHS = 30\n",
    "BUFFER_SIZE= 32561\n",
    "\n",
    "def parse_func(s_example):\n",
    "    features = {\n",
    "                'workclass': tf.FixedLenFeature((), tf.string),\n",
    "                'age': tf.FixedLenFeature((), tf.int64),\n",
    "                'fnlwgt': tf.FixedLenFeature((), tf.int64),\n",
    "                'education': tf.FixedLenFeature((), tf.string),\n",
    "                'education-num': tf.FixedLenFeature((), tf.int64),\n",
    "                'marital-status': tf.FixedLenFeature((), tf.string),\n",
    "                'occupation': tf.FixedLenFeature((), tf.string),\n",
    "                'relationship': tf.FixedLenFeature((), tf.string),\n",
    "                'race': tf.FixedLenFeature((), tf.string),\n",
    "                'sex': tf.FixedLenFeature((), tf.string),\n",
    "                'capital-gain': tf.FixedLenFeature((), tf.int64),\n",
    "                'capital-loss': tf.FixedLenFeature((), tf.int64),\n",
    "                'hours-per-week': tf.FixedLenFeature((), tf.int64),\n",
    "                'native-country': tf.FixedLenFeature((), tf.string),\n",
    "                'label': tf.FixedLenFeature((), tf.string)\n",
    "                 }\n",
    "    example = tf.parse_single_example(s_example, features=features)\n",
    "    return example\n",
    "\n",
    "def transform(features):\n",
    "    for key in ['workclass','education','marital-status','occupation','relationship','race','sex','native-country','label']:\n",
    "        features[key] = tf.strings.strip(features[key])\n",
    "    labels= features.pop('label')\n",
    "    return features,tf.cast(tf.logical_or(tf.equal(labels,'>50K'),tf.equal(labels,'>50K.')),tf.int32)\n",
    "\n",
    "\n",
    "def eval_input_fn(batch_size):\n",
    "    return tf.data.TFRecordDataset('census_test.tfrecord').map(parse_func).map(transform).batch(batch_size)\n",
    "def train_input_fn(batch_size):\n",
    "    return tf.data.TFRecordDataset('census.tfrecord').shuffle(BUFFER_SIZE).repeat(NUM_EPOCHS).map(parse_func).map(transform).batch(batch_size)\n",
    "\n"
   ]
  },
  {
   "cell_type": "markdown",
   "metadata": {},
   "source": [
    "## Train the model for 30 epochs"
   ]
  },
  {
   "cell_type": "code",
   "execution_count": 7,
   "metadata": {},
   "outputs": [
    {
     "name": "stdout",
     "output_type": "stream",
     "text": [
      "WARNING:tensorflow:From /usr/local/lib/python3.5/dist-packages/tensorflow/python/framework/op_def_library.py:263: colocate_with (from tensorflow.python.framework.ops) is deprecated and will be removed in a future version.\n",
      "Instructions for updating:\n",
      "Colocations handled automatically by placer.\n",
      "INFO:tensorflow:Calling model_fn.\n",
      "WARNING:tensorflow:From /usr/local/lib/python3.5/dist-packages/tensorflow/python/feature_column/feature_column_v2.py:2997: HashedCategoricalColumn._num_buckets (from tensorflow.python.feature_column.feature_column_v2) is deprecated and will be removed after 2018-11-30.\n",
      "Instructions for updating:\n",
      "The old _FeatureColumn APIs are being deprecated. Please use the new FeatureColumn APIs instead.\n",
      "WARNING:tensorflow:From /usr/local/lib/python3.5/dist-packages/tensorflow/python/feature_column/feature_column_v2.py:2703: to_float (from tensorflow.python.ops.math_ops) is deprecated and will be removed in a future version.\n",
      "Instructions for updating:\n",
      "Use tf.cast instead.\n",
      "WARNING:tensorflow:From /usr/local/lib/python3.5/dist-packages/tensorflow/python/ops/lookup_ops.py:1137: to_int64 (from tensorflow.python.ops.math_ops) is deprecated and will be removed in a future version.\n",
      "Instructions for updating:\n",
      "Use tf.cast instead.\n",
      "WARNING:tensorflow:From /usr/local/lib/python3.5/dist-packages/tensorflow/python/feature_column/feature_column_v2.py:4266: IndicatorColumn._variable_shape (from tensorflow.python.feature_column.feature_column_v2) is deprecated and will be removed after 2018-11-30.\n",
      "Instructions for updating:\n",
      "The old _FeatureColumn APIs are being deprecated. Please use the new FeatureColumn APIs instead.\n",
      "WARNING:tensorflow:From /usr/local/lib/python3.5/dist-packages/tensorflow/python/feature_column/feature_column_v2.py:4321: VocabularyListCategoricalColumn._num_buckets (from tensorflow.python.feature_column.feature_column_v2) is deprecated and will be removed after 2018-11-30.\n",
      "Instructions for updating:\n",
      "The old _FeatureColumn APIs are being deprecated. Please use the new FeatureColumn APIs instead.\n",
      "WARNING:tensorflow:From /usr/local/lib/python3.5/dist-packages/tensorflow/python/ops/array_grad.py:425: to_int32 (from tensorflow.python.ops.math_ops) is deprecated and will be removed in a future version.\n",
      "Instructions for updating:\n",
      "Use tf.cast instead.\n",
      "INFO:tensorflow:Done calling model_fn.\n",
      "INFO:tensorflow:Create CheckpointSaverHook.\n",
      "INFO:tensorflow:Graph was finalized.\n",
      "INFO:tensorflow:Running local_init_op.\n",
      "INFO:tensorflow:Done running local_init_op.\n",
      "INFO:tensorflow:Saving checkpoints for 0 into /tmp/tmpyogfr2m0/model.ckpt.\n",
      "INFO:tensorflow:loss = 2410.039, step = 1\n",
      "INFO:tensorflow:global_step/sec: 30.5955\n",
      "INFO:tensorflow:loss = 177.13197, step = 101 (3.270 sec)\n",
      "INFO:tensorflow:global_step/sec: 27.9528\n",
      "INFO:tensorflow:loss = 98.97878, step = 201 (3.577 sec)\n",
      "INFO:tensorflow:global_step/sec: 31.1233\n",
      "INFO:tensorflow:loss = 98.41824, step = 301 (3.213 sec)\n",
      "INFO:tensorflow:global_step/sec: 32.0008\n",
      "INFO:tensorflow:loss = 113.76126, step = 401 (3.125 sec)\n",
      "INFO:tensorflow:global_step/sec: 33.3712\n",
      "INFO:tensorflow:loss = 106.78348, step = 501 (2.997 sec)\n",
      "INFO:tensorflow:global_step/sec: 29.9991\n",
      "INFO:tensorflow:loss = 114.27727, step = 601 (3.334 sec)\n",
      "INFO:tensorflow:global_step/sec: 29.0423\n",
      "INFO:tensorflow:loss = 89.60832, step = 701 (3.443 sec)\n",
      "INFO:tensorflow:global_step/sec: 27.0548\n",
      "INFO:tensorflow:loss = 86.93092, step = 801 (3.696 sec)\n",
      "INFO:tensorflow:global_step/sec: 26.8646\n",
      "INFO:tensorflow:loss = 90.20439, step = 901 (3.722 sec)\n",
      "INFO:tensorflow:global_step/sec: 31.3164\n",
      "INFO:tensorflow:loss = 89.614624, step = 1001 (3.193 sec)\n",
      "INFO:tensorflow:global_step/sec: 32.2725\n",
      "INFO:tensorflow:loss = 86.05828, step = 1101 (3.099 sec)\n",
      "INFO:tensorflow:global_step/sec: 28.0988\n",
      "INFO:tensorflow:loss = 84.8488, step = 1201 (3.559 sec)\n",
      "INFO:tensorflow:global_step/sec: 31.2443\n",
      "INFO:tensorflow:loss = 86.140656, step = 1301 (3.200 sec)\n",
      "INFO:tensorflow:global_step/sec: 30.0691\n",
      "INFO:tensorflow:loss = 84.99042, step = 1401 (3.326 sec)\n",
      "INFO:tensorflow:global_step/sec: 29.0007\n",
      "INFO:tensorflow:loss = 95.41524, step = 1501 (3.448 sec)\n",
      "INFO:tensorflow:global_step/sec: 28.8206\n",
      "INFO:tensorflow:loss = 78.20273, step = 1601 (3.469 sec)\n",
      "INFO:tensorflow:global_step/sec: 32.2617\n",
      "INFO:tensorflow:loss = 86.77318, step = 1701 (3.100 sec)\n",
      "INFO:tensorflow:global_step/sec: 28.6603\n",
      "INFO:tensorflow:loss = 83.384094, step = 1801 (3.489 sec)\n",
      "INFO:tensorflow:global_step/sec: 30.8365\n",
      "INFO:tensorflow:loss = 81.5459, step = 1901 (3.243 sec)\n",
      "INFO:tensorflow:global_step/sec: 28.514\n",
      "INFO:tensorflow:loss = 86.94023, step = 2001 (3.507 sec)\n",
      "INFO:tensorflow:global_step/sec: 27.5013\n",
      "INFO:tensorflow:loss = 112.6445, step = 2101 (3.637 sec)\n",
      "INFO:tensorflow:global_step/sec: 29.428\n",
      "INFO:tensorflow:loss = 69.0934, step = 2201 (3.397 sec)\n",
      "INFO:tensorflow:global_step/sec: 28.8321\n",
      "INFO:tensorflow:loss = 79.377846, step = 2301 (3.469 sec)\n",
      "INFO:tensorflow:global_step/sec: 32.2394\n",
      "INFO:tensorflow:loss = 84.241295, step = 2401 (3.102 sec)\n",
      "INFO:tensorflow:global_step/sec: 31.2367\n",
      "INFO:tensorflow:loss = 87.26362, step = 2501 (3.201 sec)\n",
      "INFO:tensorflow:global_step/sec: 29.9475\n",
      "INFO:tensorflow:loss = 121.02689, step = 2601 (3.340 sec)\n",
      "INFO:tensorflow:global_step/sec: 30.4994\n",
      "INFO:tensorflow:loss = 91.69714, step = 2701 (3.278 sec)\n",
      "INFO:tensorflow:global_step/sec: 34.84\n",
      "INFO:tensorflow:loss = 90.28938, step = 2801 (2.870 sec)\n",
      "INFO:tensorflow:global_step/sec: 33.9297\n",
      "INFO:tensorflow:loss = 85.04827, step = 2901 (2.947 sec)\n",
      "INFO:tensorflow:global_step/sec: 31.4756\n",
      "INFO:tensorflow:loss = 91.320984, step = 3001 (3.177 sec)\n",
      "INFO:tensorflow:global_step/sec: 32.5376\n",
      "INFO:tensorflow:loss = 83.0647, step = 3101 (3.073 sec)\n",
      "INFO:tensorflow:global_step/sec: 33.9927\n",
      "INFO:tensorflow:loss = 84.71065, step = 3201 (2.942 sec)\n",
      "INFO:tensorflow:global_step/sec: 32.1184\n",
      "INFO:tensorflow:loss = 90.289375, step = 3301 (3.114 sec)\n",
      "INFO:tensorflow:global_step/sec: 30.0052\n",
      "INFO:tensorflow:loss = 72.51232, step = 3401 (3.333 sec)\n",
      "INFO:tensorflow:global_step/sec: 34.2525\n",
      "INFO:tensorflow:loss = 78.52057, step = 3501 (2.919 sec)\n",
      "INFO:tensorflow:global_step/sec: 31.5353\n",
      "INFO:tensorflow:loss = 83.537094, step = 3601 (3.172 sec)\n",
      "INFO:tensorflow:global_step/sec: 31.371\n",
      "INFO:tensorflow:loss = 86.161026, step = 3701 (3.187 sec)\n",
      "INFO:tensorflow:global_step/sec: 33.4061\n",
      "INFO:tensorflow:loss = 78.08037, step = 3801 (2.994 sec)\n",
      "INFO:tensorflow:Saving checkpoints for 3816 into /tmp/tmpyogfr2m0/model.ckpt.\n",
      "INFO:tensorflow:Loss for final step: 77.73136.\n"
     ]
    }
   ],
   "source": [
    "r = classifier.train(input_fn=lambda:train_input_fn(256))"
   ]
  },
  {
   "cell_type": "markdown",
   "metadata": {},
   "source": [
    "## Evaluate the model "
   ]
  },
  {
   "cell_type": "code",
   "execution_count": 8,
   "metadata": {},
   "outputs": [
    {
     "name": "stdout",
     "output_type": "stream",
     "text": [
      "INFO:tensorflow:Calling model_fn.\n",
      "WARNING:tensorflow:From /usr/local/lib/python3.5/dist-packages/tensorflow/python/ops/metrics_impl.py:2002: div (from tensorflow.python.ops.math_ops) is deprecated and will be removed in a future version.\n",
      "Instructions for updating:\n",
      "Deprecated in favor of operator or tf.math.divide.\n",
      "WARNING:tensorflow:Trapezoidal rule is known to produce incorrect PR-AUCs; please switch to \"careful_interpolation\" instead.\n",
      "WARNING:tensorflow:Trapezoidal rule is known to produce incorrect PR-AUCs; please switch to \"careful_interpolation\" instead.\n",
      "INFO:tensorflow:Done calling model_fn.\n",
      "INFO:tensorflow:Starting evaluation at 2019-03-31T05:46:28Z\n",
      "INFO:tensorflow:Graph was finalized.\n",
      "WARNING:tensorflow:From /usr/local/lib/python3.5/dist-packages/tensorflow/python/training/saver.py:1266: checkpoint_exists (from tensorflow.python.training.checkpoint_management) is deprecated and will be removed in a future version.\n",
      "Instructions for updating:\n",
      "Use standard file APIs to check for files with this prefix.\n",
      "INFO:tensorflow:Restoring parameters from /tmp/tmpyogfr2m0/model.ckpt-3816\n",
      "INFO:tensorflow:Running local_init_op.\n",
      "INFO:tensorflow:Done running local_init_op.\n",
      "INFO:tensorflow:Finished evaluation at 2019-03-31-05:46:31\n",
      "INFO:tensorflow:Saving dict for global step 3816: accuracy = 0.85559857, accuracy_baseline = 0.76377374, auc = 0.90390617, auc_precision_recall = 0.76566505, average_loss = 0.32346222, global_step = 3816, label/mean = 0.23622628, loss = 82.28576, precision = 0.74484116, prediction/mean = 0.24981976, recall = 0.59126365\n",
      "INFO:tensorflow:Saving 'checkpoint_path' summary for global step 3816: /tmp/tmpyogfr2m0/model.ckpt-3816\n"
     ]
    },
    {
     "data": {
      "text/plain": [
       "{'accuracy': 0.85559857,\n",
       " 'accuracy_baseline': 0.76377374,\n",
       " 'auc': 0.90390617,\n",
       " 'auc_precision_recall': 0.76566505,\n",
       " 'average_loss': 0.32346222,\n",
       " 'global_step': 3816,\n",
       " 'label/mean': 0.23622628,\n",
       " 'loss': 82.28576,\n",
       " 'precision': 0.74484116,\n",
       " 'prediction/mean': 0.24981976,\n",
       " 'recall': 0.59126365}"
      ]
     },
     "execution_count": 8,
     "metadata": {},
     "output_type": "execute_result"
    }
   ],
   "source": [
    "eval_result = classifier.evaluate(input_fn=lambda:eval_input_fn(256))\n",
    "eval_result"
   ]
  },
  {
   "cell_type": "markdown",
   "metadata": {},
   "source": [
    "## Save the model"
   ]
  },
  {
   "cell_type": "code",
   "execution_count": 9,
   "metadata": {},
   "outputs": [
    {
     "name": "stdout",
     "output_type": "stream",
     "text": [
      "INFO:tensorflow:Calling model_fn.\n",
      "INFO:tensorflow:Done calling model_fn.\n",
      "WARNING:tensorflow:From /usr/local/lib/python3.5/dist-packages/tensorflow/python/saved_model/signature_def_utils_impl.py:148: build_tensor_info (from tensorflow.python.saved_model.utils_impl) is deprecated and will be removed in a future version.\n",
      "Instructions for updating:\n",
      "This function will only be available through the v1 compatibility library as tf.compat.v1.saved_model.utils.build_tensor_info or tf.compat.v1.saved_model.build_tensor_info.\n",
      "INFO:tensorflow:Signatures INCLUDED in export for Regress: ['regression']\n",
      "INFO:tensorflow:Signatures INCLUDED in export for Predict: ['predict']\n",
      "INFO:tensorflow:Signatures INCLUDED in export for Train: None\n",
      "INFO:tensorflow:Signatures INCLUDED in export for Eval: None\n",
      "INFO:tensorflow:Signatures INCLUDED in export for Classify: ['classification', 'serving_default']\n",
      "INFO:tensorflow:Restoring parameters from /tmp/tmpyogfr2m0/model.ckpt-3816\n",
      "INFO:tensorflow:Assets added to graph.\n",
      "INFO:tensorflow:No assets to write.\n",
      "INFO:tensorflow:SavedModel written to: ./temp-b'1554011197'/saved_model.pb\n"
     ]
    }
   ],
   "source": [
    "feature_spec = {\n",
    "                'workclass': tf.FixedLenFeature((), tf.string),\n",
    "                'age': tf.FixedLenFeature((), tf.int64),\n",
    "                'education': tf.FixedLenFeature((), tf.string),\n",
    "                'education-num': tf.FixedLenFeature((), tf.int64),\n",
    "                'marital-status': tf.FixedLenFeature((), tf.string),\n",
    "                'occupation': tf.FixedLenFeature((), tf.string),\n",
    "                'relationship': tf.FixedLenFeature((), tf.string),\n",
    "                'sex': tf.FixedLenFeature((), tf.string),\n",
    "                'capital-gain': tf.FixedLenFeature((), tf.int64),\n",
    "                'capital-loss': tf.FixedLenFeature((), tf.int64),\n",
    "                'hours-per-week': tf.FixedLenFeature((), tf.int64),\n",
    "                 }\n",
    "\"\"\"\n",
    "my_feature_columns = [age,education_num,capital_gain,capital_loss,occupation,workclass,relationship,marital_status,\n",
    "                  education,hours_per_week]\n",
    "feature_spec= tf.feature_column.make_parse_example_spec(my_feature_columns)\n",
    "\"\"\"\n",
    "export_input_fn= tf.estimator.export.build_parsing_serving_input_receiver_fn(feature_spec)\n",
    "export_dir = classifier.export_savedmodel(export_dir_base=\".\",serving_input_receiver_fn=export_input_fn)"
   ]
  },
  {
   "cell_type": "markdown",
   "metadata": {},
   "source": [
    "### Show the path to the saved model"
   ]
  },
  {
   "cell_type": "code",
   "execution_count": 10,
   "metadata": {},
   "outputs": [
    {
     "data": {
      "text/plain": [
       "b'./1554011197'"
      ]
     },
     "execution_count": 10,
     "metadata": {},
     "output_type": "execute_result"
    }
   ],
   "source": [
    "export_dir"
   ]
  },
  {
   "cell_type": "code",
   "execution_count": null,
   "metadata": {},
   "outputs": [],
   "source": []
  }
 ],
 "metadata": {
  "kernelspec": {
   "display_name": "Python 3",
   "language": "python",
   "name": "python3"
  },
  "language_info": {
   "codemirror_mode": {
    "name": "ipython",
    "version": 3
   },
   "file_extension": ".py",
   "mimetype": "text/x-python",
   "name": "python",
   "nbconvert_exporter": "python",
   "pygments_lexer": "ipython3",
   "version": "3.5.2"
  }
 },
 "nbformat": 4,
 "nbformat_minor": 2
}
