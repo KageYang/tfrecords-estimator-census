{
 "cells": [
  {
   "cell_type": "markdown",
   "metadata": {},
   "source": [
    "## Import libraries "
   ]
  },
  {
   "cell_type": "code",
   "execution_count": 1,
   "metadata": {},
   "outputs": [],
   "source": [
    "import tensorflow as tf\n",
    "import numpy as np"
   ]
  },
  {
   "cell_type": "code",
   "execution_count": 2,
   "metadata": {},
   "outputs": [],
   "source": [
    "model_path = \"./chk\""
   ]
  },
  {
   "cell_type": "markdown",
   "metadata": {},
   "source": [
    "## Define feature columns"
   ]
  },
  {
   "cell_type": "code",
   "execution_count": 3,
   "metadata": {},
   "outputs": [],
   "source": [
    "_HASH_BUCKET_SIZE = 1000\n",
    "\n",
    "# Continuous variable columns\n",
    "age = tf.feature_column.numeric_column('age')\n",
    "education_num = tf.feature_column.numeric_column('education-num')\n",
    "capital_gain = tf.feature_column.numeric_column('capital-gain')\n",
    "capital_loss = tf.feature_column.numeric_column('capital-loss')\n",
    "hours_per_week = tf.feature_column.numeric_column('hours-per-week')\n",
    "gender = tf.feature_column.categorical_column_with_vocabulary_list(\n",
    "      'sex', ['Male', 'Female'])\n",
    "education = tf.feature_column.categorical_column_with_vocabulary_list(\n",
    "      'education', ['Bachelors', 'HS-grad', '11th', 'Masters', '9th', 'Some-college',\n",
    "          'Assoc-acdm', 'Assoc-voc', '7th-8th', 'Doctorate', 'Prof-school',\n",
    "          '5th-6th', '10th', '1st-4th', 'Preschool', '12th'])\n",
    "\n",
    "marital_status = tf.feature_column.categorical_column_with_vocabulary_list(\n",
    "      'marital-status', ['Married-civ-spouse', 'Divorced', 'Married-spouse-absent',\n",
    "          'Never-married', 'Separated', 'Married-AF-spouse', 'Widowed'])\n",
    "\n",
    "relationship = tf.feature_column.categorical_column_with_vocabulary_list(\n",
    "      'relationship', ['Husband', 'Not-in-family', 'Wife', 'Own-child', 'Unmarried',\n",
    "          'Other-relative'])\n",
    "\n",
    "workclass = tf.feature_column.categorical_column_with_vocabulary_list(\n",
    "      'workclass', ['Self-emp-not-inc', 'Private', 'State-gov', 'Federal-gov',\n",
    "          'Local-gov', '?', 'Self-emp-inc', 'Without-pay', 'Never-worked'])\n",
    "\n",
    "# To show an example of hashing:\n",
    "occupation = tf.feature_column.categorical_column_with_hash_bucket(\n",
    "      'occupation', hash_bucket_size=_HASH_BUCKET_SIZE)\n",
    "\n",
    "# Transformations.\n",
    "age_buckets = tf.feature_column.bucketized_column(age, boundaries=[18, 25, 30, 35, 40, 45, 50, 55, 60, 65])\n",
    "\n",
    "# Wide columns and deep columns.\n",
    "base_columns = [education, marital_status, relationship, workclass, occupation,age_buckets,gender,]\n",
    "\n",
    "crossed_columns = [\n",
    "      tf.feature_column.crossed_column(['education', 'occupation'], hash_bucket_size=_HASH_BUCKET_SIZE),\n",
    "      tf.feature_column.crossed_column([age_buckets, 'education', 'occupation'],hash_bucket_size=_HASH_BUCKET_SIZE),]\n",
    "\n",
    "wide_columns = base_columns + crossed_columns\n",
    "\n",
    "deep_columns = [\n",
    "      age,\n",
    "      education_num,\n",
    "      capital_gain,\n",
    "      capital_loss,\n",
    "      hours_per_week,\n",
    "      tf.feature_column.indicator_column(gender),\n",
    "      tf.feature_column.indicator_column(workclass),\n",
    "      tf.feature_column.indicator_column(education),\n",
    "      tf.feature_column.indicator_column(marital_status),\n",
    "      tf.feature_column.indicator_column(relationship),\n",
    "      # To show an example of embedding\n",
    "      tf.feature_column.embedding_column(occupation, dimension=8),\n",
    "  ]\n"
   ]
  },
  {
   "cell_type": "code",
   "execution_count": 4,
   "metadata": {},
   "outputs": [],
   "source": [
    "hidden_units = [100, 75, 50, 25]"
   ]
  },
  {
   "cell_type": "markdown",
   "metadata": {},
   "source": [
    "## Use DNN classifier"
   ]
  },
  {
   "cell_type": "code",
   "execution_count": null,
   "metadata": {},
   "outputs": [],
   "source": [
    "classifier = tf.estimator.DNNClassifier(\n",
    "        feature_columns=deep_columns,\n",
    "        hidden_units=hidden_units,\n",
    "        n_classes=2)"
   ]
  },
  {
   "cell_type": "markdown",
   "metadata": {},
   "source": [
    "## Use Deep & Wide model"
   ]
  },
  {
   "cell_type": "code",
   "execution_count": 5,
   "metadata": {},
   "outputs": [
    {
     "name": "stdout",
     "output_type": "stream",
     "text": [
      "INFO:tensorflow:Using default config.\n",
      "INFO:tensorflow:Using config: {'_model_dir': './chk', '_tf_random_seed': None, '_save_summary_steps': 100, '_save_checkpoints_steps': None, '_save_checkpoints_secs': 600, '_session_config': allow_soft_placement: true\n",
      "graph_options {\n",
      "  rewrite_options {\n",
      "    meta_optimizer_iterations: ONE\n",
      "  }\n",
      "}\n",
      ", '_keep_checkpoint_max': 5, '_keep_checkpoint_every_n_hours': 10000, '_log_step_count_steps': 100, '_train_distribute': None, '_device_fn': None, '_protocol': None, '_eval_distribute': None, '_experimental_distribute': None, '_service': None, '_cluster_spec': <tensorflow.python.training.server_lib.ClusterSpec object at 0x7f6c60f8ef98>, '_task_type': 'worker', '_task_id': 0, '_global_id_in_cluster': 0, '_master': '', '_evaluation_master': '', '_is_chief': True, '_num_ps_replicas': 0, '_num_worker_replicas': 1}\n"
     ]
    }
   ],
   "source": [
    "classifier = tf.estimator.DNNLinearCombinedClassifier(\n",
    "        model_dir=model_path,\n",
    "        linear_feature_columns=wide_columns,\n",
    "        dnn_feature_columns=deep_columns,\n",
    "        dnn_hidden_units=hidden_units,\n",
    "        warm_start_from=model_path)"
   ]
  },
  {
   "cell_type": "markdown",
   "metadata": {},
   "source": [
    "## Setup training & evaluation pipeline"
   ]
  },
  {
   "cell_type": "code",
   "execution_count": 6,
   "metadata": {},
   "outputs": [],
   "source": [
    "NUM_EPOCHS = 30\n",
    "BUFFER_SIZE= 32561\n",
    "\n",
    "def parse_func(s_example):\n",
    "    features = {\n",
    "                'workclass': tf.FixedLenFeature((), tf.string),\n",
    "                'age': tf.FixedLenFeature((), tf.int64),\n",
    "                'fnlwgt': tf.FixedLenFeature((), tf.int64),\n",
    "                'education': tf.FixedLenFeature((), tf.string),\n",
    "                'education-num': tf.FixedLenFeature((), tf.int64),\n",
    "                'marital-status': tf.FixedLenFeature((), tf.string),\n",
    "                'occupation': tf.FixedLenFeature((), tf.string),\n",
    "                'relationship': tf.FixedLenFeature((), tf.string),\n",
    "                'race': tf.FixedLenFeature((), tf.string),\n",
    "                'sex': tf.FixedLenFeature((), tf.string),\n",
    "                'capital-gain': tf.FixedLenFeature((), tf.int64),\n",
    "                'capital-loss': tf.FixedLenFeature((), tf.int64),\n",
    "                'hours-per-week': tf.FixedLenFeature((), tf.int64),\n",
    "                'native-country': tf.FixedLenFeature((), tf.string),\n",
    "                'label': tf.FixedLenFeature((), tf.string)\n",
    "                 }\n",
    "    example = tf.parse_single_example(s_example, features=features)\n",
    "    return example\n",
    "\n",
    "def transform(features):\n",
    "    for key in ['workclass','education','marital-status','occupation','relationship','race','sex','native-country','label']:\n",
    "        features[key] = tf.strings.strip(features[key])\n",
    "    labels= features.pop('label')\n",
    "    return features,tf.cast(tf.logical_or(tf.equal(labels,'>50K'),tf.equal(labels,'>50K.')),tf.int32)\n",
    "\n",
    "\n",
    "def eval_input_fn(batch_size):\n",
    "    return tf.data.TFRecordDataset('census_test.tfrecord').map(parse_func).map(transform).batch(batch_size)\n",
    "def train_input_fn(batch_size):\n",
    "    return tf.data.TFRecordDataset('census.tfrecord').shuffle(BUFFER_SIZE).repeat(NUM_EPOCHS).map(parse_func).map(transform).batch(batch_size)\n",
    "\n"
   ]
  },
  {
   "cell_type": "markdown",
   "metadata": {},
   "source": [
    "## Train the model for 30 epochs"
   ]
  },
  {
   "cell_type": "code",
   "execution_count": 11,
   "metadata": {},
   "outputs": [
    {
     "name": "stdout",
     "output_type": "stream",
     "text": [
      "INFO:tensorflow:Calling model_fn.\n",
      "INFO:tensorflow:Done calling model_fn.\n",
      "INFO:tensorflow:Warm-starting with WarmStartSettings: WarmStartSettings(ckpt_to_initialize_from='./chk', vars_to_warm_start='.*', var_name_to_vocab_info={}, var_name_to_prev_var_name={})\n",
      "INFO:tensorflow:Warm-starting from: ('./chk',)\n",
      "INFO:tensorflow:Warm-starting variable: dnn/input_from_feature_columns/input_layer/occupation_embedding/embedding_weights; prev_var_name: Unchanged\n",
      "INFO:tensorflow:Warm-starting variable: dnn/hiddenlayer_0/kernel; prev_var_name: Unchanged\n",
      "INFO:tensorflow:Warm-starting variable: dnn/hiddenlayer_0/bias; prev_var_name: Unchanged\n",
      "INFO:tensorflow:Warm-starting variable: dnn/hiddenlayer_1/kernel; prev_var_name: Unchanged\n",
      "INFO:tensorflow:Warm-starting variable: dnn/hiddenlayer_1/bias; prev_var_name: Unchanged\n",
      "INFO:tensorflow:Warm-starting variable: dnn/hiddenlayer_2/kernel; prev_var_name: Unchanged\n",
      "INFO:tensorflow:Warm-starting variable: dnn/hiddenlayer_2/bias; prev_var_name: Unchanged\n",
      "INFO:tensorflow:Warm-starting variable: dnn/hiddenlayer_3/kernel; prev_var_name: Unchanged\n",
      "INFO:tensorflow:Warm-starting variable: dnn/hiddenlayer_3/bias; prev_var_name: Unchanged\n",
      "INFO:tensorflow:Warm-starting variable: dnn/logits/kernel; prev_var_name: Unchanged\n",
      "INFO:tensorflow:Warm-starting variable: dnn/logits/bias; prev_var_name: Unchanged\n",
      "INFO:tensorflow:Warm-starting variable: linear/linear_model/age_bucketized/weights; prev_var_name: Unchanged\n",
      "INFO:tensorflow:Warm-starting variable: linear/linear_model/age_bucketized_X_education_X_occupation/weights; prev_var_name: Unchanged\n",
      "INFO:tensorflow:Warm-starting variable: linear/linear_model/education/weights; prev_var_name: Unchanged\n",
      "INFO:tensorflow:Warm-starting variable: linear/linear_model/education_X_occupation/weights; prev_var_name: Unchanged\n",
      "INFO:tensorflow:Warm-starting variable: linear/linear_model/marital-status/weights; prev_var_name: Unchanged\n",
      "INFO:tensorflow:Warm-starting variable: linear/linear_model/occupation/weights; prev_var_name: Unchanged\n",
      "INFO:tensorflow:Warm-starting variable: linear/linear_model/relationship/weights; prev_var_name: Unchanged\n",
      "INFO:tensorflow:Warm-starting variable: linear/linear_model/sex/weights; prev_var_name: Unchanged\n",
      "INFO:tensorflow:Warm-starting variable: linear/linear_model/workclass/weights; prev_var_name: Unchanged\n",
      "INFO:tensorflow:Warm-starting variable: linear/linear_model/bias_weights; prev_var_name: Unchanged\n",
      "INFO:tensorflow:Create CheckpointSaverHook.\n",
      "INFO:tensorflow:Graph was finalized.\n",
      "INFO:tensorflow:Restoring parameters from ./chk/model.ckpt-3816\n",
      "INFO:tensorflow:Running local_init_op.\n",
      "INFO:tensorflow:Done running local_init_op.\n",
      "INFO:tensorflow:Saving checkpoints for 3816 into ./chk/model.ckpt.\n",
      "INFO:tensorflow:loss = 73.88463, step = 3817\n",
      "INFO:tensorflow:global_step/sec: 11.7977\n",
      "INFO:tensorflow:loss = 76.7491, step = 3917 (8.478 sec)\n",
      "INFO:tensorflow:global_step/sec: 16.6383\n",
      "INFO:tensorflow:loss = 77.68035, step = 4017 (6.010 sec)\n",
      "INFO:tensorflow:global_step/sec: 13.4648\n",
      "INFO:tensorflow:loss = 77.39984, step = 4117 (7.429 sec)\n",
      "INFO:tensorflow:global_step/sec: 21.505\n",
      "INFO:tensorflow:loss = 81.23886, step = 4217 (4.648 sec)\n",
      "INFO:tensorflow:global_step/sec: 15.9017\n",
      "INFO:tensorflow:loss = 69.41246, step = 4317 (6.292 sec)\n",
      "INFO:tensorflow:global_step/sec: 18.477\n",
      "INFO:tensorflow:loss = 81.806946, step = 4417 (5.409 sec)\n",
      "INFO:tensorflow:global_step/sec: 13.7839\n",
      "INFO:tensorflow:loss = 70.492744, step = 4517 (7.255 sec)\n",
      "INFO:tensorflow:global_step/sec: 12.9586\n",
      "INFO:tensorflow:loss = 71.59122, step = 4617 (7.717 sec)\n",
      "INFO:tensorflow:global_step/sec: 13.4791\n",
      "INFO:tensorflow:loss = 94.506165, step = 4717 (7.419 sec)\n",
      "INFO:tensorflow:global_step/sec: 10.6062\n",
      "INFO:tensorflow:loss = 86.003746, step = 4817 (9.431 sec)\n",
      "INFO:tensorflow:global_step/sec: 10.8631\n",
      "INFO:tensorflow:loss = 78.533005, step = 4917 (9.205 sec)\n",
      "INFO:tensorflow:global_step/sec: 18.8892\n",
      "INFO:tensorflow:loss = 71.27728, step = 5017 (5.294 sec)\n",
      "INFO:tensorflow:global_step/sec: 18.1594\n",
      "INFO:tensorflow:loss = 82.123535, step = 5117 (5.507 sec)\n",
      "INFO:tensorflow:global_step/sec: 20.0823\n",
      "INFO:tensorflow:loss = 77.97476, step = 5217 (4.978 sec)\n",
      "INFO:tensorflow:global_step/sec: 11.787\n",
      "INFO:tensorflow:loss = 67.6518, step = 5317 (8.485 sec)\n",
      "INFO:tensorflow:global_step/sec: 12.4114\n",
      "INFO:tensorflow:loss = 76.787125, step = 5417 (8.057 sec)\n",
      "INFO:tensorflow:global_step/sec: 14.1211\n",
      "INFO:tensorflow:loss = 97.45932, step = 5517 (7.079 sec)\n",
      "INFO:tensorflow:global_step/sec: 15.6769\n",
      "INFO:tensorflow:loss = 78.63176, step = 5617 (6.381 sec)\n",
      "INFO:tensorflow:global_step/sec: 21.5453\n",
      "INFO:tensorflow:loss = 87.79364, step = 5717 (4.639 sec)\n",
      "INFO:tensorflow:global_step/sec: 11.4828\n",
      "INFO:tensorflow:loss = 68.05615, step = 5817 (8.711 sec)\n",
      "INFO:tensorflow:global_step/sec: 15.6702\n",
      "INFO:tensorflow:loss = 88.82849, step = 5917 (6.379 sec)\n",
      "INFO:tensorflow:global_step/sec: 15.3687\n",
      "INFO:tensorflow:loss = 72.77434, step = 6017 (6.509 sec)\n",
      "INFO:tensorflow:global_step/sec: 20.5225\n",
      "INFO:tensorflow:loss = 80.099686, step = 6117 (4.871 sec)\n",
      "INFO:tensorflow:global_step/sec: 11.5056\n",
      "INFO:tensorflow:loss = 69.8051, step = 6217 (8.692 sec)\n",
      "INFO:tensorflow:global_step/sec: 18.4073\n",
      "INFO:tensorflow:loss = 68.36581, step = 6317 (5.433 sec)\n",
      "INFO:tensorflow:global_step/sec: 21.8146\n",
      "INFO:tensorflow:loss = 71.20157, step = 6417 (4.583 sec)\n",
      "INFO:tensorflow:global_step/sec: 12.0436\n",
      "INFO:tensorflow:loss = 92.99271, step = 6517 (8.304 sec)\n",
      "INFO:tensorflow:global_step/sec: 13.6851\n",
      "INFO:tensorflow:loss = 84.402664, step = 6617 (7.307 sec)\n",
      "INFO:tensorflow:global_step/sec: 10.5267\n",
      "INFO:tensorflow:loss = 85.49359, step = 6717 (9.501 sec)\n",
      "INFO:tensorflow:global_step/sec: 16.6201\n",
      "INFO:tensorflow:loss = 78.33906, step = 6817 (6.015 sec)\n",
      "INFO:tensorflow:global_step/sec: 13.1386\n",
      "INFO:tensorflow:loss = 84.891785, step = 6917 (7.612 sec)\n",
      "INFO:tensorflow:global_step/sec: 12.4495\n",
      "INFO:tensorflow:loss = 91.34942, step = 7017 (8.032 sec)\n",
      "INFO:tensorflow:global_step/sec: 16.0886\n",
      "INFO:tensorflow:loss = 74.44194, step = 7117 (6.216 sec)\n",
      "INFO:tensorflow:global_step/sec: 20.4298\n",
      "INFO:tensorflow:loss = 89.894745, step = 7217 (4.895 sec)\n",
      "INFO:tensorflow:global_step/sec: 20.7311\n",
      "INFO:tensorflow:loss = 77.26686, step = 7317 (4.825 sec)\n",
      "INFO:tensorflow:global_step/sec: 12.0156\n",
      "INFO:tensorflow:loss = 73.28745, step = 7417 (8.323 sec)\n",
      "INFO:tensorflow:global_step/sec: 21.6403\n",
      "INFO:tensorflow:loss = 79.26947, step = 7517 (4.619 sec)\n",
      "INFO:tensorflow:global_step/sec: 13.0689\n",
      "INFO:tensorflow:loss = 73.72131, step = 7617 (7.652 sec)\n",
      "INFO:tensorflow:Saving checkpoints for 7632 into ./chk/model.ckpt.\n",
      "INFO:tensorflow:Loss for final step: 50.857605.\n"
     ]
    }
   ],
   "source": [
    "r = classifier.train(input_fn=lambda:train_input_fn(256))"
   ]
  },
  {
   "cell_type": "markdown",
   "metadata": {},
   "source": [
    "## Evaluate the model "
   ]
  },
  {
   "cell_type": "code",
   "execution_count": 7,
   "metadata": {},
   "outputs": [
    {
     "name": "stdout",
     "output_type": "stream",
     "text": [
      "INFO:tensorflow:Calling model_fn.\n",
      "WARNING:tensorflow:From /home/yxh/miniconda2/envs/py3tf/lib/python3.6/site-packages/tensorflow/python/ops/sparse_ops.py:1165: sparse_to_dense (from tensorflow.python.ops.sparse_ops) is deprecated and will be removed in a future version.\n",
      "Instructions for updating:\n",
      "Create a `tf.sparse.SparseTensor` and use `tf.sparse.to_dense` instead.\n",
      "WARNING:tensorflow:Trapezoidal rule is known to produce incorrect PR-AUCs; please switch to \"careful_interpolation\" instead.\n",
      "WARNING:tensorflow:Trapezoidal rule is known to produce incorrect PR-AUCs; please switch to \"careful_interpolation\" instead.\n",
      "INFO:tensorflow:Done calling model_fn.\n",
      "INFO:tensorflow:Starting evaluation at 2018-12-08-23:11:56\n",
      "INFO:tensorflow:Graph was finalized.\n",
      "INFO:tensorflow:Restoring parameters from ./chk/model.ckpt-7632\n",
      "INFO:tensorflow:Running local_init_op.\n",
      "INFO:tensorflow:Done running local_init_op.\n",
      "INFO:tensorflow:Finished evaluation at 2018-12-08-23:11:58\n",
      "INFO:tensorflow:Saving dict for global step 7632: accuracy = 0.85559857, accuracy_baseline = 0.76377374, auc = 0.9103634, auc_precision_recall = 0.78067905, average_loss = 0.31023094, global_step = 7632, label/mean = 0.23622628, loss = 78.919846, precision = 0.7240036, prediction/mean = 0.24358582, recall = 0.62818515\n",
      "INFO:tensorflow:Saving 'checkpoint_path' summary for global step 7632: ./chk/model.ckpt-7632\n"
     ]
    },
    {
     "data": {
      "text/plain": [
       "{'accuracy': 0.85559857,\n",
       " 'accuracy_baseline': 0.76377374,\n",
       " 'auc': 0.9103634,\n",
       " 'auc_precision_recall': 0.78067905,\n",
       " 'average_loss': 0.31023094,\n",
       " 'label/mean': 0.23622628,\n",
       " 'loss': 78.919846,\n",
       " 'precision': 0.7240036,\n",
       " 'prediction/mean': 0.24358582,\n",
       " 'recall': 0.62818515,\n",
       " 'global_step': 7632}"
      ]
     },
     "execution_count": 7,
     "metadata": {},
     "output_type": "execute_result"
    }
   ],
   "source": [
    "eval_result = classifier.evaluate(input_fn=lambda:eval_input_fn(256))\n",
    "eval_result"
   ]
  },
  {
   "cell_type": "markdown",
   "metadata": {},
   "source": [
    "## Save the model"
   ]
  },
  {
   "cell_type": "code",
   "execution_count": null,
   "metadata": {},
   "outputs": [],
   "source": [
    "feature_spec = {\n",
    "                'workclass': tf.FixedLenFeature((), tf.string),\n",
    "                'age': tf.FixedLenFeature((), tf.int64),\n",
    "                'education': tf.FixedLenFeature((), tf.string),\n",
    "                'education-num': tf.FixedLenFeature((), tf.int64),\n",
    "                'marital-status': tf.FixedLenFeature((), tf.string),\n",
    "                'occupation': tf.FixedLenFeature((), tf.string),\n",
    "                'relationship': tf.FixedLenFeature((), tf.string),\n",
    "                'sex': tf.FixedLenFeature((), tf.string),\n",
    "                'capital-gain': tf.FixedLenFeature((), tf.int64),\n",
    "                'capital-loss': tf.FixedLenFeature((), tf.int64),\n",
    "                'hours-per-week': tf.FixedLenFeature((), tf.int64),\n",
    "                 }\n",
    "\"\"\"\n",
    "my_feature_columns = [age,education_num,capital_gain,capital_loss,occupation,workclass,relationship,marital_status,\n",
    "                  education,hours_per_week]\n",
    "feature_spec= tf.feature_column.make_parse_example_spec(my_feature_columns)\n",
    "\"\"\"\n",
    "export_input_fn= tf.estimator.export.build_parsing_serving_input_receiver_fn(feature_spec)\n",
    "export_dir = classifier.export_savedmodel(export_dir_base=\"./saved_model\",serving_input_receiver_fn=export_input_fn)"
   ]
  },
  {
   "cell_type": "markdown",
   "metadata": {},
   "source": [
    "### Show the path to the saved model"
   ]
  },
  {
   "cell_type": "code",
   "execution_count": null,
   "metadata": {},
   "outputs": [],
   "source": [
    "export_dir"
   ]
  }
 ],
 "metadata": {
  "kernelspec": {
   "display_name": "Python 3",
   "language": "python",
   "name": "python3"
  },
  "language_info": {
   "codemirror_mode": {
    "name": "ipython",
    "version": 3
   },
   "file_extension": ".py",
   "mimetype": "text/x-python",
   "name": "python",
   "nbconvert_exporter": "python",
   "pygments_lexer": "ipython3",
   "version": "3.5.2"
  }
 },
 "nbformat": 4,
 "nbformat_minor": 2
}
