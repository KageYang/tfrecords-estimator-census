{
 "cells": [
  {
   "cell_type": "markdown",
   "metadata": {},
   "source": [
    "## Import libraries and enable Eager execution mode"
   ]
  },
  {
   "cell_type": "code",
   "execution_count": 2,
   "metadata": {},
   "outputs": [],
   "source": [
    "import tensorflow as tf\n",
    "import numpy as np\n",
    "\n",
    "tf.enable_eager_execution()"
   ]
  },
  {
   "cell_type": "code",
   "execution_count": null,
   "metadata": {},
   "outputs": [],
   "source": [
    "!head -5 adult.data"
   ]
  },
  {
   "cell_type": "code",
   "execution_count": null,
   "metadata": {},
   "outputs": [],
   "source": [
    "def _bytes_feature(value):\n",
    "    return tf.train.Feature(bytes_list=tf.train.BytesList(value=[value]))\n",
    "\n",
    "def _int64_feature(value):\n",
    "    return tf.train.Feature(int64_list=tf.train.Int64List(value=[value]))"
   ]
  },
  {
   "cell_type": "markdown",
   "metadata": {},
   "source": [
    "## Function `read_csv_2_dataset` : Input csv file path, and return a dataset whose element is  a dictionary of features."
   ]
  },
  {
   "cell_type": "code",
   "execution_count": null,
   "metadata": {},
   "outputs": [],
   "source": [
    "def read_csv_2_dataset(csv_file):\n",
    "    def _parse_line(line):\n",
    "        RECORD_DEFAULTS = [0,'A']*3+ ['A']*4+[0]*3+['A']*2\n",
    "        COLUMNS = ['age','workclass','fnlwgt','education','education-num','marital-status',\n",
    "           'occupation','relationship','race','sex','capital-gain','capital-loss',\n",
    "           'hours-per-week','native-country','label']\n",
    "        # Decode the line into its fields\n",
    "        fields = tf.decode_csv(line, RECORD_DEFAULTS)\n",
    "        # Pack the result into a dictionary\n",
    "        features = dict(zip(COLUMNS,fields))\n",
    "        # Separate the label from the features\n",
    "        #label = features.pop('label')\n",
    "        #return features, label\n",
    "        return features\n",
    "    return tf.data.TextLineDataset(csv_file).map(_parse_line)"
   ]
  },
  {
   "cell_type": "markdown",
   "metadata": {},
   "source": [
    "## Function `dump_dataset_2_tfrecord`: Input dataset and name of tfrecord file to dump"
   ]
  },
  {
   "cell_type": "code",
   "execution_count": null,
   "metadata": {},
   "outputs": [],
   "source": [
    "def dump_dataset_2_tfrecord(dataset, out_file):\n",
    "    writer = tf.python_io.TFRecordWriter(out_file)\n",
    "    for x in dataset:\n",
    "        example = tf.train.Example(\n",
    "            features=tf.train.Features(feature=\n",
    "                {'age': _int64_feature(x['age'].numpy()),\n",
    "                'workclass': _bytes_feature(x['workclass'].numpy()),\n",
    "                'fnlwgt': _int64_feature(x['fnlwgt'].numpy()),\n",
    "                'education': _bytes_feature(x['education'].numpy()),\n",
    "                'education-num': _int64_feature(x['education-num'].numpy()),\n",
    "                'marital-status': _bytes_feature(x['marital-status'].numpy()),\n",
    "                'occupation': _bytes_feature(x['occupation'].numpy()),\n",
    "                'relationship': _bytes_feature(x['relationship'].numpy()),\n",
    "                'race': _bytes_feature(x['race'].numpy()),\n",
    "                'sex': _bytes_feature(x['sex'].numpy()),\n",
    "                'capital-gain': _int64_feature(x['capital-gain'].numpy()),\n",
    "                'capital-loss': _int64_feature(x['capital-loss'].numpy()),\n",
    "                'hours-per-week': _int64_feature(x['hours-per-week'].numpy()),\n",
    "                'native-country': _bytes_feature(x['native-country'].numpy()),\n",
    "                'label': _bytes_feature(x['label'].numpy())\n",
    "                })\n",
    "        )\n",
    "        writer.write(example.SerializeToString())\n",
    "    writer.close()   "
   ]
  },
  {
   "cell_type": "markdown",
   "metadata": {},
   "source": [
    "## Load data from CSV file and store them in dataset"
   ]
  },
  {
   "cell_type": "code",
   "execution_count": null,
   "metadata": {},
   "outputs": [],
   "source": [
    "data = read_csv_2_dataset('./adult.data')\n",
    "data"
   ]
  },
  {
   "cell_type": "markdown",
   "metadata": {},
   "source": [
    "## Dump dataset to tfrecord file"
   ]
  },
  {
   "cell_type": "code",
   "execution_count": null,
   "metadata": {},
   "outputs": [],
   "source": [
    "dump_dataset_2_tfrecord(data, 'census.tfrecord')"
   ]
  }
 ],
 "metadata": {
  "kernelspec": {
   "display_name": "Python 3",
   "language": "python",
   "name": "python3"
  },
  "language_info": {
   "codemirror_mode": {
    "name": "ipython",
    "version": 3
   },
   "file_extension": ".py",
   "mimetype": "text/x-python",
   "name": "python",
   "nbconvert_exporter": "python",
   "pygments_lexer": "ipython3",
   "version": "3.5.2"
  }
 },
 "nbformat": 4,
 "nbformat_minor": 2
}
